{
 "cells": [
  {
   "cell_type": "code",
   "execution_count": 1,
   "id": "4cdd65a8-a762-427c-92b1-773aa69e5b6f",
   "metadata": {},
   "outputs": [],
   "source": [
    "import os\n",
    "from llama_cpp import Llama"
   ]
  },
  {
   "cell_type": "code",
   "execution_count": null,
   "id": "730c3907",
   "metadata": {},
   "outputs": [],
   "source": [
    "llama_model_path = os.environ.get(\"MODEL_LOCAL_PATH\")  # from download_model.py -> /home/llamauser/.cache/huggingface/hub/models--TheBloke--Llama-2-13B-chat-GGML/snapshots/a17885f653039bd07ed0f8ff4ecc373abf5425fd/llama-2-13b-chat.ggmlv3.q5_1.bin            \n",
    "llama_model = Llama(\n",
    "    model_path=llama_model_path,\n",
    "    n_threads=os.cpu_count(),\n",
    "    n_batch=512,\n",
    ")"
   ]
  },
  {
   "cell_type": "code",
   "execution_count": 4,
   "id": "43d3301a-e32c-4ea8-bff9-0efa6326d586",
   "metadata": {},
   "outputs": [
    {
     "name": "stdout",
     "output_type": "stream",
     "text": [
      "Your prompt: What is the recipe of Famous Amos chocolate chip cookie\n"
     ]
    }
   ],
   "source": [
    "prompt = input(\"your prompt:\")"
   ]
  },
  {
   "cell_type": "code",
   "execution_count": 7,
   "id": "8dd80eab",
   "metadata": {},
   "outputs": [],
   "source": [
    "prompt_template=f\"\"\"SYSTEM: You are a helpful, respectful and honest assistant. Always answer helpfully.\n",
    "\n",
    "USER: {prompt}\n",
    "\n",
    "ASSISTANT:\n",
    "\"\"\""
   ]
  },
  {
   "cell_type": "code",
   "execution_count": null,
   "id": "a6cad1cf",
   "metadata": {},
   "outputs": [],
   "source": [
    "response=llama_model(\n",
    "    prompt=prompt_template,\n",
    "    max_tokens=256,\n",
    "    temperature=0.5,\n",
    "    top_p=0.95,\n",
    "    repeat_penalty=1.2,\n",
    "    top_k=150,\n",
    "    echo=True\n",
    ")"
   ]
  },
  {
   "cell_type": "code",
   "execution_count": null,
   "id": "d430627a",
   "metadata": {},
   "outputs": [],
   "source": [
    "print(response[\"choices\"][0][\"text\"])"
   ]
  }
 ],
 "metadata": {
  "kernelspec": {
   "display_name": "Python 3 (ipykernel)",
   "language": "python",
   "name": "python3"
  },
  "language_info": {
   "codemirror_mode": {
    "name": "ipython",
    "version": 3
   },
   "file_extension": ".py",
   "mimetype": "text/x-python",
   "name": "python",
   "nbconvert_exporter": "python",
   "pygments_lexer": "ipython3",
   "version": "3.10.12"
  }
 },
 "nbformat": 4,
 "nbformat_minor": 5
}
